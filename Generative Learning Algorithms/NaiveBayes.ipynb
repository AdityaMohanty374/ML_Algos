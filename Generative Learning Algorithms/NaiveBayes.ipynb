{
  "nbformat": 4,
  "nbformat_minor": 0,
  "metadata": {
    "colab": {
      "provenance": [],
      "authorship_tag": "ABX9TyMyaXXfVkdEROqzGuU8xbFc",
      "include_colab_link": true
    },
    "kernelspec": {
      "name": "python3",
      "display_name": "Python 3"
    },
    "language_info": {
      "name": "python"
    }
  },
  "cells": [
    {
      "cell_type": "markdown",
      "metadata": {
        "id": "view-in-github",
        "colab_type": "text"
      },
      "source": [
        "<a href=\"https://colab.research.google.com/github/AdityaMohanty374/ML_Algos/blob/main/NaiveBayes.ipynb\" target=\"_parent\"><img src=\"https://colab.research.google.com/assets/colab-badge.svg\" alt=\"Open In Colab\"/></a>"
      ]
    },
    {
      "cell_type": "code",
      "source": [
        "#in probability space\n",
        "\n",
        "import pandas as pd\n",
        "import numpy as np\n",
        "\n",
        "df = pd.read_csv('diabetes.csv')\n",
        "X = df.drop(columns = \"Outcome\").values\n",
        "y = df['Outcome'].values\n",
        "mu0 = X[y==0].mean(axis=0)\n",
        "mu1 = X[y==1].mean(axis=0)\n",
        "phi = np.mean(np.array(y)==1)\n",
        "var0 = X[y==0].var(axis=0)\n",
        "var1 = X[y==1].var(axis=0)\n",
        "def naive_bayes(x, mu, var):\n",
        "    n = x.shape[0]\n",
        "    diff = x - mu\n",
        "    exponent = np.exp(-0.5 * ((x-mu)**2)/(var))\n",
        "    coeff = 1.0 / (np.sqrt(2 * np.pi*var))\n",
        "    return np.prod(coeff * exponent)\n",
        "predictions = []\n",
        "\n",
        "for i in range(len(y)):\n",
        "  x = X[i]\n",
        "  px_y0 = naive_bayes(x, mu0, var0)\n",
        "  px_y1 = naive_bayes(x, mu1, var1)\n",
        "  posterior = (px_y1 * phi) / (px_y1 * phi + px_y0 * (1 - phi))\n",
        "  predictions.append(1 if posterior>=0.5 else 0)\n",
        "accuracy = 0\n",
        "for i in range(len(predictions)):\n",
        "  if predictions[i]==y[i]: accuracy+=1\n",
        "\n",
        "accuracy/len(y)"
      ],
      "metadata": {
        "colab": {
          "base_uri": "https://localhost:8080/"
        },
        "id": "SoTY7gTACXeP",
        "outputId": "2584698c-f57f-4143-edbe-fba568bd890c"
      },
      "execution_count": 60,
      "outputs": [
        {
          "output_type": "execute_result",
          "data": {
            "text/plain": [
              "0.7630208333333334"
            ]
          },
          "metadata": {},
          "execution_count": 60
        }
      ]
    },
    {
      "cell_type": "code",
      "source": [
        "#in log-space\n",
        "import pandas as pd\n",
        "import numpy as np\n",
        "\n",
        "df = pd.read_csv('diabetes.csv')\n",
        "X = df.drop(columns=\"Outcome\").values\n",
        "y = df['Outcome'].values\n",
        "\n",
        "mu0 = X[y==0].mean(axis=0)\n",
        "mu1 = X[y==1].mean(axis=0)\n",
        "phi = np.mean(y == 1)\n",
        "var0 = X[y==0].var(axis=0) + 1e-9 #to avoid 0 variance\n",
        "var1 = X[y==1].var(axis=0) + 1e-9\n",
        "\n",
        "#Multiplying many small probabilities (np.prod) can lead to numbers too small for the computer to store → underflow to 0.0.\n",
        "#Fix: work in log-space (np.sum of log-probabilities instead of product).\n",
        "\n",
        "def naive_bayes_log(x, mu, var):\n",
        "    coeff = -0.5 * np.log(2 * np.pi * var)\n",
        "    exponent = -0.5 * ((x - mu) ** 2) / var\n",
        "    return np.sum(coeff + exponent)\n",
        "\n",
        "predictions = []\n",
        "for i in range(len(y)):\n",
        "    x = X[i]\n",
        "    #In your current form, px_y1 * phi and px_y0 * (1 - phi) are likelihood × prior.\n",
        "    #If you switch to log-space, you avoid computing posteriors directly — instead compare log-likelihoods:\n",
        "\n",
        "    log_p0 = naive_bayes_log(x, mu0, var0) + np.log(1 - phi)\n",
        "    log_p1 = naive_bayes_log(x, mu1, var1) + np.log(phi)\n",
        "    predictions.append(1 if log_p1 > log_p0 else 0)\n",
        "\n",
        "accuracy = np.mean(np.array(predictions) == y)\n",
        "print(\"Accuracy:\", accuracy)\n"
      ],
      "metadata": {
        "colab": {
          "base_uri": "https://localhost:8080/"
        },
        "id": "Q-yMH0uKC91p",
        "outputId": "9457a1f9-7580-4df7-9b8b-2f1a2ccc1def"
      },
      "execution_count": 61,
      "outputs": [
        {
          "output_type": "stream",
          "name": "stdout",
          "text": [
            "Accuracy: 0.7630208333333334\n"
          ]
        }
      ]
    }
  ]
}
