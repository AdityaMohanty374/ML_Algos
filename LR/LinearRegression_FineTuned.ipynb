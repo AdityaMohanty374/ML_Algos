{
  "nbformat": 4,
  "nbformat_minor": 0,
  "metadata": {
    "colab": {
      "provenance": [],
      "authorship_tag": "ABX9TyPwx5v20uLpmiIvpqXGaPGS",
      "include_colab_link": true
    },
    "kernelspec": {
      "name": "python3",
      "display_name": "Python 3"
    },
    "language_info": {
      "name": "python"
    }
  },
  "cells": [
    {
      "cell_type": "markdown",
      "metadata": {
        "id": "view-in-github",
        "colab_type": "text"
      },
      "source": [
        "<a href=\"https://colab.research.google.com/github/AdityaMohanty374/ML_Algos/blob/main/LinearRegression_FineTuned.ipynb\" target=\"_parent\"><img src=\"https://colab.research.google.com/assets/colab-badge.svg\" alt=\"Open In Colab\"/></a>"
      ]
    },
    {
      "cell_type": "code",
      "execution_count": 14,
      "metadata": {
        "colab": {
          "base_uri": "https://localhost:8080/",
          "height": 472
        },
        "id": "dmG9xyB-bSxc",
        "outputId": "8f477cbc-ed8b-441d-fd3e-eada551b6160"
      },
      "outputs": [
        {
          "output_type": "display_data",
          "data": {
            "text/plain": [
              "<Figure size 640x480 with 1 Axes>"
            ],
            "image/png": "[encoded data removed]"
          },
          "metadata": {}
        }
      ],
      "source": [
        "import pandas as pd\n",
        "import numpy as np\n",
        "import matplotlib.pyplot as plt\n",
        "areas = []\n",
        "ovQal = []\n",
        "yearBuilt = []\n",
        "yearRemo = []\n",
        "garage = []\n",
        "prices = []\n",
        "x = [None for _ in range(6)]\n",
        "w = [np.random.uniform(-0.01, 0.01) for _ in range(6)]\n",
        "alpha=0.01\n",
        "losses = []\n",
        "def min_max_scale(lst):\n",
        "    mean = np.mean(lst)\n",
        "    std = np.std(lst)\n",
        "    return [(x - mean) / (std + 1e-8) for x in lst]\n",
        "df = pd.read_csv('train.csv')\n",
        "selected_col = df[['LotArea', 'OverallQual', 'YearBuilt', 'YearRemodAdd', 'GarageArea', 'SalePrice']]\n",
        "for row in selected_col.itertuples(index=False):\n",
        "  areas.append(row.LotArea)\n",
        "  ovQal.append(row.OverallQual)\n",
        "  yearBuilt.append(row.YearBuilt)\n",
        "  yearRemo.append(row.YearRemodAdd)\n",
        "  garage.append(row.GarageArea)\n",
        "  prices.append(row.SalePrice)\n",
        "areas = min_max_scale(areas)\n",
        "ovQal = min_max_scale(ovQal)\n",
        "yearBuilt = min_max_scale(yearBuilt)\n",
        "yearRemo = min_max_scale(yearRemo)\n",
        "garage = min_max_scale(garage)\n",
        "prices = min_max_scale(prices)\n",
        "n = len(areas)\n",
        "for epoch in range(250):\n",
        "  total_loss = 0\n",
        "  for j in range(len(areas)):\n",
        "    x[0] = 1\n",
        "    x[1] = areas[j]\n",
        "    x[2] = ovQal[j]\n",
        "    x[3] = yearBuilt[j]\n",
        "    x[4] = yearRemo[j]\n",
        "    x[5] = garage[j]\n",
        "    y = prices[j]\n",
        "    h = w[0]*x[0]+w[1]*x[1]+w[2]*x[2]+w[3]*x[3]+w[4]*x[4]+w[5]*x[5]\n",
        "    error = y - h\n",
        "    total_loss += error**2\n",
        "    w[0] -= alpha*-2/n*error*x[0]\n",
        "    w[1] -= alpha*-2/n*error*x[1]\n",
        "    w[2] -= alpha*-2/n*error*x[2]\n",
        "    w[3] -= alpha*-2/n*error*x[3]\n",
        "    w[4] -= alpha*-2/n*error*x[4]\n",
        "    w[5] -= alpha*-2/n*error*x[5]\n",
        "  losses.append(total_loss / n)\n",
        "plt.plot(losses)\n",
        "plt.xlabel('Epoch')\n",
        "plt.ylabel('Mean Squared Error')\n",
        "plt.title('Loss over Epochs')\n",
        "plt.show()"
      ]
    },
    {
      "cell_type": "code",
      "source": [
        "w[0]"
      ],
      "metadata": {
        "colab": {
          "base_uri": "https://localhost:8080/"
        },
        "id": "6Ur5Y-MwbVa2",
        "outputId": "09c721d2-0148-4636-8b43-54d6264f013e"
      },
      "execution_count": 15,
      "outputs": [
        {
          "output_type": "execute_result",
          "data": {
            "text/plain": [
              "np.float64(-5.604863070949647e-05)"
            ]
          },
          "metadata": {},
          "execution_count": 15
        }
      ]
    },
    {
      "cell_type": "code",
      "source": [
        "w[0]*x[0]+w[1]*11622+w[2]*5+w[3]*1961+w[4]*1961+w[5]*730"
      ],
      "metadata": {
        "colab": {
          "base_uri": "https://localhost:8080/"
        },
        "id": "B-BxUAxgdczX",
        "outputId": "1281a8f6-3142-43f3-cf01-a9d101c2c782"
      },
      "execution_count": 16,
      "outputs": [
        {
          "output_type": "execute_result",
          "data": {
            "text/plain": [
              "np.float64(2351.4458718796836)"
            ]
          },
          "metadata": {},
          "execution_count": 16
        }
      ]
    },
    {
      "cell_type": "code",
      "source": [],
      "metadata": {
        "id": "cpb6tXdPfG_J"
      },
      "execution_count": null,
      "outputs": []
    }
  ]
}
