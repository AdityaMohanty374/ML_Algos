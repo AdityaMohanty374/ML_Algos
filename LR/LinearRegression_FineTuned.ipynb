{
  "nbformat": 4,
  "nbformat_minor": 0,
  "metadata": {
    "colab": {
      "provenance": [],
      "authorship_tag": "ABX9TyOFFcH/NNogBTiZnoqJBMGB",
      "include_colab_link": true
    },
    "kernelspec": {
      "name": "python3",
      "display_name": "Python 3"
    },
    "language_info": {
      "name": "python"
    }
  },
  "cells": [
    {
      "cell_type": "markdown",
      "metadata": {
        "id": "view-in-github",
        "colab_type": "text"
      },
      "source": [
        "<a href=\"https://colab.research.google.com/github/AdityaMohanty374/ML_Algos/blob/main/LinearRegression_FineTuned.ipynb\" target=\"_parent\"><img src=\"https://colab.research.google.com/assets/colab-badge.svg\" alt=\"Open In Colab\"/></a>"
      ]
    },
    {
      "cell_type": "code",
      "execution_count": 20,
      "metadata": {
        "colab": {
          "base_uri": "https://localhost:8080/",
          "height": 472
        },
        "id": "dmG9xyB-bSxc",
        "outputId": "5c1c202d-4823-4eaa-d92b-06c95afff021"
      },
      "outputs": [
        {
          "output_type": "display_data",
          "data": {
            "text/plain": [
              "<Figure size 640x480 with 1 Axes>"
            ],
            "image/png": "[encoded data removed]"
          },
          "metadata": {}
        }
      ],
      "source": [
        "import pandas as pd\n",
        "import numpy as np\n",
        "import matplotlib.pyplot as plt\n",
        "areas = []\n",
        "ovQal = []\n",
        "yearBuilt = []\n",
        "yearRemo = []\n",
        "garage = []\n",
        "prices = []\n",
        "x = [None for _ in range(6)]\n",
        "w = [np.random.uniform(-0.01, 0.01) for _ in range(6)]\n",
        "alpha=0.01\n",
        "losses = []\n",
        "def min_max_scale(lst):\n",
        "    mean = np.mean(lst)\n",
        "    std = np.std(lst)\n",
        "    return [(x - mean) / (std + 1e-8) for x in lst]\n",
        "df = pd.read_csv('train.csv')\n",
        "selected_col = df[['LotArea', 'OverallQual', 'YearBuilt', 'YearRemodAdd', 'GarageArea', 'SalePrice']]\n",
        "for row in selected_col.itertuples(index=False):\n",
        "  areas.append(row.LotArea)\n",
        "  ovQal.append(row.OverallQual)\n",
        "  yearBuilt.append(row.YearBuilt)\n",
        "  yearRemo.append(row.YearRemodAdd)\n",
        "  garage.append(row.GarageArea)\n",
        "  prices.append(row.SalePrice)\n",
        "mean_price = np.mean(prices)\n",
        "std_price = np.std(prices)\n",
        "areas = min_max_scale(areas)\n",
        "ovQal = min_max_scale(ovQal)\n",
        "yearBuilt = min_max_scale(yearBuilt)\n",
        "yearRemo = min_max_scale(yearRemo)\n",
        "garage = min_max_scale(garage)\n",
        "prices = min_max_scale(prices)\n",
        "n = len(areas)\n",
        "for epoch in range(250):\n",
        "  total_loss = 0\n",
        "  for j in range(len(areas)):\n",
        "    x[0] = 1\n",
        "    x[1] = areas[j]\n",
        "    x[2] = ovQal[j]\n",
        "    x[3] = yearBuilt[j]\n",
        "    x[4] = yearRemo[j]\n",
        "    x[5] = garage[j]\n",
        "    y = prices[j]\n",
        "    h = sum(w[i]*x[i] for i in range(6))\n",
        "    error = y - h\n",
        "    total_loss += error**2\n",
        "    for i in range(6):\n",
        "      w[i] += alpha * 2/n * error * x[i]\n",
        "  losses.append(total_loss / n)\n",
        "plt.plot(losses)\n",
        "plt.xlabel('Epoch')\n",
        "plt.ylabel('Mean Squared Error')\n",
        "plt.title('Loss over Epochs')\n",
        "plt.show()"
      ]
    },
    {
      "cell_type": "code",
      "source": [
        "w[0]"
      ],
      "metadata": {
        "colab": {
          "base_uri": "https://localhost:8080/"
        },
        "id": "6Ur5Y-MwbVa2",
        "outputId": "ee3c45b4-095f-481b-8c24-112bc9a3b272"
      },
      "execution_count": 21,
      "outputs": [
        {
          "output_type": "execute_result",
          "data": {
            "text/plain": [
              "np.float64(-7.635730697359204e-05)"
            ]
          },
          "metadata": {},
          "execution_count": 21
        }
      ]
    },
    {
      "cell_type": "code",
      "source": [
        "(w[0]*x[0]+w[1]*11622+w[2]*5+w[3]*1961+w[4]*1961+w[5]*730) * std_price + mean_price"
      ],
      "metadata": {
        "colab": {
          "base_uri": "https://localhost:8080/"
        },
        "id": "B-BxUAxgdczX",
        "outputId": "ad830d83-fc7f-4038-df33-26b2f4a8645b"
      },
      "execution_count": 22,
      "outputs": [
        {
          "output_type": "execute_result",
          "data": {
            "text/plain": [
              "np.float64(186826780.39105442)"
            ]
          },
          "metadata": {},
          "execution_count": 22
        }
      ]
    },
    {
      "cell_type": "code",
      "source": [
        "std_price\n"
      ],
      "metadata": {
        "colab": {
          "base_uri": "https://localhost:8080/"
        },
        "id": "cpb6tXdPfG_J",
        "outputId": "8d943b3b-1cc0-463d-b9ac-40e5df839fb6"
      },
      "execution_count": 23,
      "outputs": [
        {
          "output_type": "execute_result",
          "data": {
            "text/plain": [
              "np.float64(79415.29188606751)"
            ]
          },
          "metadata": {},
          "execution_count": 23
        }
      ]
    },
    {
      "cell_type": "code",
      "source": [],
      "metadata": {
        "id": "Usrg_KA9iQq0"
      },
      "execution_count": null,
      "outputs": []
    }
  ]
}
