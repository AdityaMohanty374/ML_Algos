{
  "nbformat": 4,
  "nbformat_minor": 0,
  "metadata": {
    "colab": {
      "provenance": [],
      "authorship_tag": "ABX9TyO3LJy9FM8oB2IG4veODlEI",
      "include_colab_link": true
    },
    "kernelspec": {
      "name": "python3",
      "display_name": "Python 3"
    },
    "language_info": {
      "name": "python"
    }
  },
  "cells": [
    {
      "cell_type": "markdown",
      "metadata": {
        "id": "view-in-github",
        "colab_type": "text"
      },
      "source": [
        "<a href=\"https://colab.research.google.com/github/AdityaMohanty374/ML_Algos/blob/main/Logistic_Regression.ipynb\" target=\"_parent\"><img src=\"https://colab.research.google.com/assets/colab-badge.svg\" alt=\"Open In Colab\"/></a>"
      ]
    },
    {
      "cell_type": "code",
      "execution_count": 32,
      "metadata": {
        "id": "MtIeHwE_8HIY"
      },
      "outputs": [],
      "source": [
        "import pandas as pd\n",
        "import numpy as np\n",
        "import matplotlib.pyplot as plt\n",
        "df = pd.read_csv('Social_Network_Ads.csv')"
      ]
    },
    {
      "cell_type": "code",
      "source": [
        "gender = df['Gender'].tolist()\n",
        "age = df['Age'].tolist()\n",
        "sal = df['EstimatedSalary'].tolist()\n",
        "purchase = df['Purchased'].tolist()\n",
        "def z_norm(lst):\n",
        "    mean = np.mean(lst)\n",
        "    std = np.std(lst)\n",
        "    return [(x - mean) / (std + 1e-8) for x in lst]\n",
        "age = z_norm(age)\n",
        "sal = z_norm(sal)"
      ],
      "metadata": {
        "id": "2L2Jeg6f802F"
      },
      "execution_count": 24,
      "outputs": []
    },
    {
      "cell_type": "code",
      "source": [
        "alpha = 0.001\n",
        "losses = []\n",
        "x = [None for _ in range(4)]\n",
        "w = [np.random.uniform(-0.01, 0.01) for _ in range(4)]"
      ],
      "metadata": {
        "id": "IcmAEuYe9xlo"
      },
      "execution_count": 36,
      "outputs": []
    },
    {
      "cell_type": "code",
      "source": [
        "for epochs in range(4000):\n",
        "  total_loss=0\n",
        "  for j in range(len(purchase)):\n",
        "    x[0] = 1\n",
        "    x[1] = gender[j]\n",
        "    x[2] = age[j]\n",
        "    x[3] = sal[j]\n",
        "    y = purchase[j]\n",
        "    h = 1/(1+np.exp(-sum(w[i]*x[i] for i in range(4))))\n",
        "    error = y-h\n",
        "    for i in range(4):\n",
        "      w[i]+=alpha*error*x[i]*(2/len(purchase))\n",
        "    total_loss += -y * np.log(h + 1e-8) - (1 - y) * np.log(1 - h + 1e-8)\n",
        "  avg_loss = total_loss / len(purchase)\n",
        "  losses.append(avg_loss)\n",
        "\n",
        "plt.plot(losses)\n",
        "plt.xlabel('Epochs')\n",
        "plt.ylabel('Loss')\n",
        "plt.show()"
      ],
      "metadata": {
        "colab": {
          "base_uri": "https://localhost:8080/",
          "height": 449
        },
        "id": "XL45m5jP-SjV",
        "outputId": "edf93536-ff9e-45ed-ba1e-d06cdf8570d9"
      },
      "execution_count": 41,
      "outputs": [
        {
          "output_type": "display_data",
          "data": {
            "text/plain": [
              "<Figure size 640x480 with 1 Axes>"
            ],
            "image/png": "[encoded data removed]"
          },
          "metadata": {}
        }
      ]
    },
    {
      "cell_type": "code",
      "source": [
        "w"
      ],
      "metadata": {
        "colab": {
          "base_uri": "https://localhost:8080/"
        },
        "id": "HNQ4uqa5AdGm",
        "outputId": "80883d32-612f-4810-d76a-8ab66632d866"
      },
      "execution_count": 39,
      "outputs": [
        {
          "output_type": "execute_result",
          "data": {
            "text/plain": [
              "[np.float64(-0.2444407362043959),\n",
              " np.float64(-0.13058695054321504),\n",
              " np.float64(0.5391149825237246),\n",
              " np.float64(0.29192783601693145)]"
            ]
          },
          "metadata": {},
          "execution_count": 39
        }
      ]
    },
    {
      "cell_type": "code",
      "source": [
        "correct = 0\n",
        "for i in range(len(purchase)):\n",
        "    x_input = [1, gender[i], age[i], sal[i]]\n",
        "    z = sum(w[j] * x_input[j] for j in range(4))\n",
        "    h = 1 / (1 + np.exp(-z))\n",
        "    pred = 1 if h >= 0.5 else 0\n",
        "    if pred == purchase[i]:\n",
        "        correct += 1\n",
        "\n",
        "custom_acc = correct / len(purchase)\n"
      ],
      "metadata": {
        "id": "YCvo-00vCk6K"
      },
      "execution_count": 45,
      "outputs": []
    },
    {
      "cell_type": "code",
      "source": [
        "print(\"Custom Model Accuracy: \", custom_acc)"
      ],
      "metadata": {
        "colab": {
          "base_uri": "https://localhost:8080/"
        },
        "id": "5UCfHwAkFkKt",
        "outputId": "751ac553-bd27-4a45-f8ed-c0d0ee7318c8"
      },
      "execution_count": 52,
      "outputs": [
        {
          "output_type": "stream",
          "name": "stdout",
          "text": [
            "Custom Model Accuracy:  0.84\n"
          ]
        }
      ]
    },
    {
      "cell_type": "code",
      "source": [
        "import pandas as pd\n",
        "from sklearn.linear_model import LogisticRegression\n",
        "from sklearn.preprocessing import StandardScaler\n",
        "from sklearn.pipeline import make_pipeline\n",
        "from sklearn.metrics import accuracy_score\n",
        "# Load data\n",
        "df = pd.read_csv(\"Social_Network_Ads.csv\")\n",
        "\n",
        "# Features and target\n",
        "X = df[['Gender', 'Age', 'EstimatedSalary']]\n",
        "y = np.array(purchase)\n",
        "y = y.flatten()\n",
        "# Pipeline with scaling and linear regression\n",
        "model = make_pipeline(StandardScaler(), LogisticRegression())\n",
        "\n",
        "# Fit the model\n",
        "model.fit(X, y)\n",
        "\n",
        "# Show coefficients and intercept\n",
        "coef = model.named_steps['logisticregression'].coef_\n",
        "intercept = model.named_steps['logisticregression'].intercept_\n",
        "\n",
        "# Predict on the first row\n",
        "y_pred = model.predict(X)\n",
        "print(\"Coefficients:\", coef)\n",
        "print(\"Intercept:\", intercept)\n",
        "sklearn_acc = accuracy_score(y, y_pred)\n",
        "\n",
        "print(\"Sklearn Model Accuracy:\", sklearn_acc)"
      ],
      "metadata": {
        "colab": {
          "base_uri": "https://localhost:8080/"
        },
        "id": "-K2zIL54GH_x",
        "outputId": "7828c082-4cf8-466c-8e65-603b2fbf476e"
      },
      "execution_count": 51,
      "outputs": [
        {
          "output_type": "stream",
          "name": "stdout",
          "text": [
            "Coefficients: [[0.14556209 2.29122065 1.14717672]]\n",
            "Intercept: [-1.09865243]\n",
            "Sklearn Model Accuracy: 0.8525\n"
          ]
        }
      ]
    }
  ]
}
